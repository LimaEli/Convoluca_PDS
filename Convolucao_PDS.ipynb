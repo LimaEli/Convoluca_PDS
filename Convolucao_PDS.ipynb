{
  "nbformat": 4,
  "nbformat_minor": 0,
  "metadata": {
    "colab": {
      "name": "Ex_Comp_01.ipynb",
      "version": "0.3.2",
      "provenance": [],
      "collapsed_sections": []
    },
    "kernelspec": {
      "name": "python3",
      "display_name": "Python 3"
    }
  },
  "cells": [
    {
      "cell_type": "markdown",
      "metadata": {
        "id": "g5J1Tc6hurb9",
        "colab_type": "text"
      },
      "source": [
        "# Exercício computacional 1\n"
      ]
    },
    {
      "cell_type": "markdown",
      "metadata": {
        "id": "jeuMn2MC56Cm",
        "colab_type": "text"
      },
      "source": [
        "As variáveis com o nome terminadas em *s* represantam os vetores com os algarismos do RA (para variáveis começadas com h) do aluno Saulo Filho Perceval e os respectivos vetores com os resultados das convoluções (variáveis começadas em y), já as variáveis terminadas em *r* representam os vetores com os algarismos do RA do aluno Rodrigo Alves Souza, seguindo a mesma lógica apresentada anteriormente."
      ]
    },
    {
      "cell_type": "markdown",
      "metadata": {
        "id": "rIhFzQjwutmC",
        "colab_type": "text"
      },
      "source": [
        "##1.\n",
        "\n",
        "Implementando um algoritmo para o cálculo da convolução discreta de qualquer sinais *x(n)* e *h(n)*, utilizando a expressão a)/\n"
      ]
    },
    {
      "cell_type": "markdown",
      "metadata": {
        "id": "slxWc4_wqh80",
        "colab_type": "text"
      },
      "source": [
        "importação de pacotes"
      ]
    },
    {
      "cell_type": "code",
      "metadata": {
        "id": "II4ttoZsquHU",
        "colab_type": "code",
        "colab": {}
      },
      "source": [
        "# Exercício Computacional feito por Rodrigo Alves Souza RA:21027912\n",
        "# e por Saulo Filho Perceval RA:11009014\n",
        "%matplotlib inline\n",
        "import math\n",
        "import numpy as np\n",
        "import matplotlib.pyplot as plt\n",
        "from scipy import signal"
      ],
      "execution_count": 0,
      "outputs": []
    },
    {
      "cell_type": "markdown",
      "metadata": {
        "id": "y0pTGR7BjO24",
        "colab_type": "text"
      },
      "source": [
        ""
      ]
    },
    {
      "cell_type": "markdown",
      "metadata": {
        "id": "RTTGcuJ8rE83",
        "colab_type": "text"
      },
      "source": [
        "Criando função que realiza a convolução"
      ]
    },
    {
      "cell_type": "code",
      "metadata": {
        "id": "NG1S8lfMrDq1",
        "colab_type": "code",
        "colab": {}
      },
      "source": [
        "def conv_a(x: list, h: list) -> list:\n",
        "  # uma lista vazia, na qual serao armazenados os valores do resultado\n",
        "  y = list()\n",
        "  # realizando a iteração de 0 a Nx+Nh-2\n",
        "  for n in range(0, len(x) + len(h) - 2):\n",
        "    # Insere o elemento n na lista y, inicialmente com valor 0\n",
        "    y.append(0)\n",
        "    # iterando os k elementos do vetor x e realizando o somatorio x(n)*h(n-k),\n",
        "    # armazenando o resultado do somatorio no elemento n da lista y\n",
        "    for k in range(0,len(x)-1):\n",
        "      if n-k >= 0 and n-k < len(h):\n",
        "        y[n] += x[k]*h[n-k]\n",
        "  # retorna o vetor y\n",
        "  return y"
      ],
      "execution_count": 0,
      "outputs": []
    },
    {
      "cell_type": "markdown",
      "metadata": {
        "id": "dy5J6rV1ygxJ",
        "colab_type": "text"
      },
      "source": [
        "##2."
      ]
    },
    {
      "cell_type": "markdown",
      "metadata": {
        "id": "lc7vzgOey0vS",
        "colab_type": "text"
      },
      "source": [
        "###a)\n"
      ]
    },
    {
      "cell_type": "markdown",
      "metadata": {
        "id": "_bbrvJ-Zzrur",
        "colab_type": "text"
      },
      "source": [
        "Criando os vetores com os algarismos dos RAs e o vetor com a função impulso unitário, utilizando o pacote *signal*\n",
        "\n"
      ]
    },
    {
      "cell_type": "code",
      "metadata": {
        "id": "Vf135S8szqVZ",
        "colab_type": "code",
        "colab": {}
      },
      "source": [
        "h_a_s = np.array([1,1,0,0,9,0,1,4])#Referente ao RA do Saulo\n",
        "h_a_r = np.array([2,1,0,2,7,9,1,2])#Referente ao RA do Rodrigo\n",
        "x_a = signal.unit_impulse(100)"
      ],
      "execution_count": 0,
      "outputs": []
    },
    {
      "cell_type": "markdown",
      "metadata": {
        "id": "j0i997eg0Zyd",
        "colab_type": "text"
      },
      "source": [
        "realizando a convolução pela função conv_a e plotando o resultado"
      ]
    },
    {
      "cell_type": "code",
      "metadata": {
        "id": "-cHGOk3K0YVg",
        "colab_type": "code",
        "outputId": "f7388d4c-5bde-46ad-b0de-48985376663f",
        "colab": {
          "base_uri": "https://localhost:8080/",
          "height": 343
        }
      },
      "source": [
        "y_a_s = conv_a(x_a,h_a_s)\n",
        "y_a_r = conv_a(x_a,h_a_r)\n",
        "print(y_a_s)\n",
        "plt.plot(y_a_s, linestyle='steps')\n",
        "print(y_a_r)\n",
        "plt.plot(y_a_r, linestyle='steps')"
      ],
      "execution_count": 26,
      "outputs": [
        {
          "output_type": "stream",
          "text": [
            "[1.0, 1.0, 0.0, 0.0, 9.0, 0.0, 1.0, 4.0, 0.0, 0.0, 0.0, 0.0, 0.0, 0.0, 0.0, 0.0, 0.0, 0.0, 0.0, 0.0, 0.0, 0.0, 0.0, 0.0, 0.0, 0.0, 0.0, 0.0, 0.0, 0.0, 0.0, 0.0, 0.0, 0.0, 0.0, 0.0, 0.0, 0.0, 0.0, 0.0, 0.0, 0.0, 0.0, 0.0, 0.0, 0.0, 0.0, 0.0, 0.0, 0.0, 0.0, 0.0, 0.0, 0.0, 0.0, 0.0, 0.0, 0.0, 0.0, 0.0, 0.0, 0.0, 0.0, 0.0, 0.0, 0.0, 0.0, 0.0, 0.0, 0.0, 0.0, 0.0, 0.0, 0.0, 0.0, 0.0, 0.0, 0.0, 0.0, 0.0, 0.0, 0.0, 0.0, 0.0, 0.0, 0.0, 0.0, 0.0, 0.0, 0.0, 0.0, 0.0, 0.0, 0.0, 0.0, 0.0, 0.0, 0.0, 0.0, 0.0, 0.0, 0.0, 0.0, 0.0, 0.0, 0.0]\n",
            "[2.0, 1.0, 0.0, 2.0, 7.0, 9.0, 1.0, 2.0, 0.0, 0.0, 0.0, 0.0, 0.0, 0.0, 0.0, 0.0, 0.0, 0.0, 0.0, 0.0, 0.0, 0.0, 0.0, 0.0, 0.0, 0.0, 0.0, 0.0, 0.0, 0.0, 0.0, 0.0, 0.0, 0.0, 0.0, 0.0, 0.0, 0.0, 0.0, 0.0, 0.0, 0.0, 0.0, 0.0, 0.0, 0.0, 0.0, 0.0, 0.0, 0.0, 0.0, 0.0, 0.0, 0.0, 0.0, 0.0, 0.0, 0.0, 0.0, 0.0, 0.0, 0.0, 0.0, 0.0, 0.0, 0.0, 0.0, 0.0, 0.0, 0.0, 0.0, 0.0, 0.0, 0.0, 0.0, 0.0, 0.0, 0.0, 0.0, 0.0, 0.0, 0.0, 0.0, 0.0, 0.0, 0.0, 0.0, 0.0, 0.0, 0.0, 0.0, 0.0, 0.0, 0.0, 0.0, 0.0, 0.0, 0.0, 0.0, 0.0, 0.0, 0.0, 0.0, 0.0, 0.0, 0.0]\n"
          ],
          "name": "stdout"
        },
        {
          "output_type": "execute_result",
          "data": {
            "text/plain": [
              "[<matplotlib.lines.Line2D at 0x7f2a96d93048>]"
            ]
          },
          "metadata": {
            "tags": []
          },
          "execution_count": 26
        },
        {
          "output_type": "display_data",
          "data": {
            "image/png": "[encoded data removed]",
            "text/plain": [
              "<Figure size 432x288 with 1 Axes>"
            ]
          },
          "metadata": {
            "tags": []
          }
        }
      ]
    },
    {
      "cell_type": "markdown",
      "metadata": {
        "id": "wPocoI8U8DM5",
        "colab_type": "text"
      },
      "source": [
        "realizando a convolução pela função numpy.convolve e plotando para verificar o resultado"
      ]
    },
    {
      "cell_type": "code",
      "metadata": {
        "id": "_Dc5d3ks0_Mp",
        "colab_type": "code",
        "outputId": "e89379d5-76ac-4606-c2b2-d0d25e54cb99",
        "colab": {
          "base_uri": "https://localhost:8080/",
          "height": 466
        }
      },
      "source": [
        "y_a_s_np = np.convolve(x_a, h_a_s, mode='full')\n",
        "y_a_r_np = np.convolve(x_a, h_a_r, mode='full')\n",
        "print(y_a_s_np)\n",
        "plt.plot(y_a_s_np, linestyle='steps')\n",
        "print(y_a_r_np)\n",
        "plt.plot(y_a_r_np, linestyle='steps')"
      ],
      "execution_count": 28,
      "outputs": [
        {
          "output_type": "stream",
          "text": [
            "[1. 1. 0. 0. 9. 0. 1. 4. 0. 0. 0. 0. 0. 0. 0. 0. 0. 0. 0. 0. 0. 0. 0. 0.\n",
            " 0. 0. 0. 0. 0. 0. 0. 0. 0. 0. 0. 0. 0. 0. 0. 0. 0. 0. 0. 0. 0. 0. 0. 0.\n",
            " 0. 0. 0. 0. 0. 0. 0. 0. 0. 0. 0. 0. 0. 0. 0. 0. 0. 0. 0. 0. 0. 0. 0. 0.\n",
            " 0. 0. 0. 0. 0. 0. 0. 0. 0. 0. 0. 0. 0. 0. 0. 0. 0. 0. 0. 0. 0. 0. 0. 0.\n",
            " 0. 0. 0. 0. 0. 0. 0. 0. 0. 0. 0.]\n",
            "[2. 1. 0. 2. 7. 9. 1. 2. 0. 0. 0. 0. 0. 0. 0. 0. 0. 0. 0. 0. 0. 0. 0. 0.\n",
            " 0. 0. 0. 0. 0. 0. 0. 0. 0. 0. 0. 0. 0. 0. 0. 0. 0. 0. 0. 0. 0. 0. 0. 0.\n",
            " 0. 0. 0. 0. 0. 0. 0. 0. 0. 0. 0. 0. 0. 0. 0. 0. 0. 0. 0. 0. 0. 0. 0. 0.\n",
            " 0. 0. 0. 0. 0. 0. 0. 0. 0. 0. 0. 0. 0. 0. 0. 0. 0. 0. 0. 0. 0. 0. 0. 0.\n",
            " 0. 0. 0. 0. 0. 0. 0. 0. 0. 0. 0.]\n"
          ],
          "name": "stdout"
        },
        {
          "output_type": "execute_result",
          "data": {
            "text/plain": [
              "[<matplotlib.lines.Line2D at 0x7f2a96d274a8>]"
            ]
          },
          "metadata": {
            "tags": []
          },
          "execution_count": 28
        },
        {
          "output_type": "display_data",
          "data": {
            "image/png": "[encoded data removed]",
            "text/plain": [
              "<Figure size 432x288 with 1 Axes>"
            ]
          },
          "metadata": {
            "tags": []
          }
        }
      ]
    },
    {
      "cell_type": "markdown",
      "metadata": {
        "id": "sPkDQSGo8SUO",
        "colab_type": "text"
      },
      "source": [
        "###b)"
      ]
    },
    {
      "cell_type": "markdown",
      "metadata": {
        "id": "NELJ6mJv8tZW",
        "colab_type": "text"
      },
      "source": [
        "Criando os vetores com os algarismos dos RAs e o vetor com a função degrau unitário\n",
        "\n",
        "\n",
        "\n"
      ]
    },
    {
      "cell_type": "code",
      "metadata": {
        "id": "1MSRF6sx6xCT",
        "colab_type": "code",
        "colab": {}
      },
      "source": [
        "h_b_s = [1,1,0,0,9,0,1,4]\n",
        "h_b_r = [2,1,0,2,7,9,1,2]\n",
        "x_b = np.ones_like(range(100))"
      ],
      "execution_count": 0,
      "outputs": []
    },
    {
      "cell_type": "markdown",
      "metadata": {
        "colab_type": "text",
        "id": "lgV3WgyB_Czt"
      },
      "source": [
        "realizando a convolução pela função conv_a e plotando o resultado"
      ]
    },
    {
      "cell_type": "code",
      "metadata": {
        "colab_type": "code",
        "outputId": "0c726871-9ba4-4356-baca-1ba898f1aaaf",
        "id": "CYgBKIOO_Czu",
        "colab": {
          "base_uri": "https://localhost:8080/",
          "height": 343
        }
      },
      "source": [
        "y_b_s = conv_a(x_b,h_b_s)\n",
        "y_b_r = conv_a(x_b,h_b_r)\n",
        "print(y_b_s)\n",
        "plt.plot(y_b_s, linestyle='steps')\n",
        "print(y_b_r)\n",
        "plt.plot(y_b_r, linestyle='steps')"
      ],
      "execution_count": 31,
      "outputs": [
        {
          "output_type": "stream",
          "text": [
            "[1, 2, 2, 2, 11, 11, 12, 16, 16, 16, 16, 16, 16, 16, 16, 16, 16, 16, 16, 16, 16, 16, 16, 16, 16, 16, 16, 16, 16, 16, 16, 16, 16, 16, 16, 16, 16, 16, 16, 16, 16, 16, 16, 16, 16, 16, 16, 16, 16, 16, 16, 16, 16, 16, 16, 16, 16, 16, 16, 16, 16, 16, 16, 16, 16, 16, 16, 16, 16, 16, 16, 16, 16, 16, 16, 16, 16, 16, 16, 16, 16, 16, 16, 16, 16, 16, 16, 16, 16, 16, 16, 16, 16, 16, 16, 16, 16, 16, 16, 15, 14, 14, 14, 5, 5, 4]\n",
            "[2, 3, 3, 5, 12, 21, 22, 24, 24, 24, 24, 24, 24, 24, 24, 24, 24, 24, 24, 24, 24, 24, 24, 24, 24, 24, 24, 24, 24, 24, 24, 24, 24, 24, 24, 24, 24, 24, 24, 24, 24, 24, 24, 24, 24, 24, 24, 24, 24, 24, 24, 24, 24, 24, 24, 24, 24, 24, 24, 24, 24, 24, 24, 24, 24, 24, 24, 24, 24, 24, 24, 24, 24, 24, 24, 24, 24, 24, 24, 24, 24, 24, 24, 24, 24, 24, 24, 24, 24, 24, 24, 24, 24, 24, 24, 24, 24, 24, 24, 22, 21, 21, 19, 12, 3, 2]\n"
          ],
          "name": "stdout"
        },
        {
          "output_type": "execute_result",
          "data": {
            "text/plain": [
              "[<matplotlib.lines.Line2D at 0x7f2a96c82c18>]"
            ]
          },
          "metadata": {
            "tags": []
          },
          "execution_count": 31
        },
        {
          "output_type": "display_data",
          "data": {
            "image/png": "[encoded data removed]",
            "text/plain": [
              "<Figure size 432x288 with 1 Axes>"
            ]
          },
          "metadata": {
            "tags": []
          }
        }
      ]
    },
    {
      "cell_type": "markdown",
      "metadata": {
        "colab_type": "text",
        "id": "q_7THuZ2_Cz0"
      },
      "source": [
        "realizando a convolução pela função numpy.convolve e plotando para verificar o resultado"
      ]
    },
    {
      "cell_type": "code",
      "metadata": {
        "colab_type": "code",
        "outputId": "02a10135-51b4-4820-da53-d1e9f6679994",
        "id": "45EDtdmM_Cz0",
        "colab": {
          "base_uri": "https://localhost:8080/",
          "height": 466
        }
      },
      "source": [
        "y_b_s_np = np.convolve(x_b, h_b_s, mode='full')\n",
        "y_b_r_np = np.convolve(x_b, h_b_r, mode='full')\n",
        "print(y_b_s_np)\n",
        "plt.plot(y_b_s_np, linestyle='steps')\n",
        "print(y_b_r_np)\n",
        "plt.plot(y_b_r_np, linestyle='steps')"
      ],
      "execution_count": 33,
      "outputs": [
        {
          "output_type": "stream",
          "text": [
            "[ 1  2  2  2 11 11 12 16 16 16 16 16 16 16 16 16 16 16 16 16 16 16 16 16\n",
            " 16 16 16 16 16 16 16 16 16 16 16 16 16 16 16 16 16 16 16 16 16 16 16 16\n",
            " 16 16 16 16 16 16 16 16 16 16 16 16 16 16 16 16 16 16 16 16 16 16 16 16\n",
            " 16 16 16 16 16 16 16 16 16 16 16 16 16 16 16 16 16 16 16 16 16 16 16 16\n",
            " 16 16 16 16 15 14 14 14  5  5  4]\n",
            "[ 2  3  3  5 12 21 22 24 24 24 24 24 24 24 24 24 24 24 24 24 24 24 24 24\n",
            " 24 24 24 24 24 24 24 24 24 24 24 24 24 24 24 24 24 24 24 24 24 24 24 24\n",
            " 24 24 24 24 24 24 24 24 24 24 24 24 24 24 24 24 24 24 24 24 24 24 24 24\n",
            " 24 24 24 24 24 24 24 24 24 24 24 24 24 24 24 24 24 24 24 24 24 24 24 24\n",
            " 24 24 24 24 22 21 21 19 12  3  2]\n"
          ],
          "name": "stdout"
        },
        {
          "output_type": "execute_result",
          "data": {
            "text/plain": [
              "[<matplotlib.lines.Line2D at 0x7f2a96c17940>]"
            ]
          },
          "metadata": {
            "tags": []
          },
          "execution_count": 33
        },
        {
          "output_type": "display_data",
          "data": {
            "image/png": "[encoded data removed]",
            "text/plain": [
              "<Figure size 432x288 with 1 Axes>"
            ]
          },
          "metadata": {
            "tags": []
          }
        }
      ]
    },
    {
      "cell_type": "markdown",
      "metadata": {
        "id": "1iGFw44sjdLk",
        "colab_type": "text"
      },
      "source": [
        "**c) Calcula o cosseno de um ângulo theta*"
      ]
    },
    {
      "cell_type": "markdown",
      "metadata": {
        "id": "qXPSWQQm1hvq",
        "colab_type": "text"
      },
      "source": [
        "Criando os vetores com os algarismos dos RAs e o vetor com a função x(n)= cos(0.1pi\\*n) + cos(0.9pi\\*n)\n",
        "\n",
        "\n",
        "\n",
        "\n",
        "\n"
      ]
    },
    {
      "cell_type": "code",
      "metadata": {
        "id": "vwOdhjgWjxme",
        "colab_type": "code",
        "colab": {}
      },
      "source": [
        "h_c_s = [1,1,0,0,9,0,1,4]\n",
        "h_c_r = [2,1,0,2,7,9,1,2]\n",
        "\n",
        "x_c = list()\n",
        "for n in range(0, 99):                     \n",
        "  x_c.append(math.cos(math.pi*0.1*n)+math.cos(math.pi*0.9*n))"
      ],
      "execution_count": 0,
      "outputs": []
    },
    {
      "cell_type": "markdown",
      "metadata": {
        "id": "49fehGC94mio",
        "colab_type": "text"
      },
      "source": [
        "realizando a convolução pela função conv_a e plotando o resultado"
      ]
    },
    {
      "cell_type": "code",
      "metadata": {
        "id": "Y8deh0uz2djw",
        "colab_type": "code",
        "colab": {
          "base_uri": "https://localhost:8080/",
          "height": 343
        },
        "outputId": "2cd1cd1d-6d28-43ae-e6f7-cdf4809b0bc7"
      },
      "source": [
        "y_c_s = conv_a(x_c, h_c_s)\n",
        "y_c_r = conv_a(x_c, h_c_r)\n",
        "print(y_c_s)\n",
        "plt.plot(y_c_s, linestyle='steps')\n",
        "print(y_c_r)\n",
        "plt.plot(y_c_r, linestyle='steps')"
      ],
      "execution_count": 36,
      "outputs": [
        {
          "output_type": "stream",
          "text": [
            "[2.0, 2.0, 1.618033988749895, 1.6180339887498951, 18.618033988749893, 0.6180339887498951, 15.944271909999157, 7.381966011250109, 5.562305898749052, 4.85410196624969, -6.944271909999163, 0.4721359549995964, -16.798373876248846, -4.090169943749475, -20.236067977499776, -7.090169943749484, -15.944271909999156, -7.381966011250103, -5.562305898749016, -4.854101966249717, 6.944271909999177, -0.47213595499956695, 16.798373876248817, 4.090169943749469, 20.23606797749979, 7.09016994374947, 15.944271909999124, 7.381966011250138, 5.562305898749024, 4.854101966249682, -6.944271909999135, 0.4721359549995553, -16.79837387624889, -4.090169943749448, -20.236067977499808, -7.090169943749509, -15.944271909999136, -7.381966011250136, -5.562305898749065, -4.854101966249667, 6.944271909999118, -0.47213595499964967, 16.79837387624888, 4.090169943749434, 20.23606797749975, 7.0901699437494985, 15.94427190999915, 7.381966011250106, 5.5623058987489635, 4.854101966249779, -6.9442719099992365, 0.47213595499960104, -16.79837387624883, -4.090169943749485, -20.23606797749977, -7.090169943749493, -15.944271909999141, -7.3819660112500705, -5.562305898749109, -4.854101966249646, 6.94427190999933, -0.4721359549997205, 16.79837387624896, 4.090169943749489, 20.236067977499747, 7.090169943749537, 15.944271909999088, 7.381966011250191, 5.5623058987490115, 4.8541019662497105, -6.944271909999154, 0.4721359549995944, -16.79837387624883, -4.090169943749508, -20.236067977499772, -7.090169943749471, -15.944271909999204, -7.381966011250242, -5.562305898748907, -4.854101966249893, 6.944271909999233, -0.47213595499962424, 16.79837387624884, 4.090169943749485, 20.236067977499758, 7.090169943749514, 15.94427190999912, 7.381966011250157, 5.562305898749036, 4.8541019662496705, -6.944271909999113, 0.47213595499956806, -16.79837387624896, -4.090169943749409, -20.2360679774998, -7.090169943749584, -15.944271909999053, -7.381966011250219, -7.180339887498863, -6.472135954999691, 4.944271909999203, -2.4721359549996067, 0.618033988749843, 2.4721359549996085, -2.708944180085382e-14]\n",
            "[4.0, 2.0, 3.23606797749979, 5.618033988749895, 15.23606797749979, 21.854101966249683, 12.090169943749473, 19.18033988749895, 2.7082039324993694, 5.944271909999157, -7.708203932499363, -9.562305898749045, -15.180339887498933, -21.41640786499874, -16.854101966249676, -25.090169943749483, -12.090169943749478, -19.18033988749893, -2.708203932499345, -5.944271909999141, 7.70820393249935, 9.562305898749068, 15.180339887498924, 21.416407864998725, 16.854101966249672, 25.090169943749466, 12.09016994374946, 19.18033988749894, 2.708203932499373, 5.944271909999147, -7.708203932499346, -9.562305898749075, -15.180339887498993, -21.41640786499877, -16.854101966249676, -25.09016994374949, -12.09016994374948, -19.180339887498963, -2.7082039324993876, -5.944271909999159, 7.708203932499333, 9.56230589874898, 15.180339887498903, 21.416407864998746, 16.854101966249633, 25.090169943749498, 12.090169943749473, 19.180339887498928, 2.708203932499317, 5.944271909999123, -7.708203932499323, -9.562305898749097, -15.1803398874989, -21.416407864998757, -16.854101966249672, -25.090169943749487, -12.090169943749439, -19.180339887498956, -2.7082039324993645, -5.9442719099991415, 7.708203932499503, 9.562305898749143, 15.180339887498896, 21.41640786499882, 16.85410196624962, 25.090169943749505, 12.09016994374947, 19.18033988749896, 2.7082039324994236, 5.9442719099991255, -7.7082039324993294, -9.562305898749058, -15.180339887498913, -21.416407864998778, -16.85410196624966, -25.0901699437495, -12.090169943749522, -19.180339887499066, -2.7082039324994316, -5.944271909999142, 7.708203932499247, 9.562305898749136, 15.180339887498862, 21.416407864998796, 16.85410196624964, 25.090169943749494, 12.09016994374948, 19.18033988749896, 2.7082039324993827, 5.944271909999153, -7.708203932499339, -9.562305898749077, -15.180339887499015, -21.416407864998824, -16.85410196624964, -25.090169943749544, -12.090169943749476, -19.180339887498935, -5.944271909999224, -7.562305898749026, 3.708203932499269, 4.326237921249306, 0.6180339887498124, 1.236067977499801, -1.354472090042691e-14]\n"
          ],
          "name": "stdout"
        },
        {
          "output_type": "execute_result",
          "data": {
            "text/plain": [
              "[<matplotlib.lines.Line2D at 0x7f2a96b93668>]"
            ]
          },
          "metadata": {
            "tags": []
          },
          "execution_count": 36
        },
        {
          "output_type": "display_data",
          "data": {
            "image/png": "[encoded data removed]",
            "text/plain": [
              "<Figure size 432x288 with 1 Axes>"
            ]
          },
          "metadata": {
            "tags": []
          }
        }
      ]
    },
    {
      "cell_type": "markdown",
      "metadata": {
        "id": "76lnmTvf4qi-",
        "colab_type": "text"
      },
      "source": [
        "realizando a convolução pela função numpy.convolve e plotando para verificar o resultado"
      ]
    },
    {
      "cell_type": "code",
      "metadata": {
        "id": "v23Y1IlF4yAM",
        "colab_type": "code",
        "colab": {
          "base_uri": "https://localhost:8080/",
          "height": 1000
        },
        "outputId": "e461b1a6-1e42-43f0-9ab8-8ccc2a83b33f"
      },
      "source": [
        "y_c_s_np = np.convolve(x_c, h_c_s, mode='full')\n",
        "y_c_r_np = np.convolve(x_c, h_c_r, mode='full')\n",
        "print(y_c_s_np)\n",
        "plt.plot(y_c_s_np, linestyle='steps')\n",
        "print(y_c_r_np)\n",
        "plt.plot(y_c_r_np, linestyle='steps')"
      ],
      "execution_count": 37,
      "outputs": [
        {
          "output_type": "stream",
          "text": [
            "[  2.           2.           1.61803399   1.61803399  18.61803399\n",
            "   0.61803399  15.94427191   7.38196601   5.5623059    4.85410197\n",
            "  -6.94427191   0.47213595 -16.79837388  -4.09016994 -20.23606798\n",
            "  -7.09016994 -15.94427191  -7.38196601  -5.5623059   -4.85410197\n",
            "   6.94427191  -0.47213595  16.79837388   4.09016994  20.23606798\n",
            "   7.09016994  15.94427191   7.38196601   5.5623059    4.85410197\n",
            "  -6.94427191   0.47213595 -16.79837388  -4.09016994 -20.23606798\n",
            "  -7.09016994 -15.94427191  -7.38196601  -5.5623059   -4.85410197\n",
            "   6.94427191  -0.47213595  16.79837388   4.09016994  20.23606798\n",
            "   7.09016994  15.94427191   7.38196601   5.5623059    4.85410197\n",
            "  -6.94427191   0.47213595 -16.79837388  -4.09016994 -20.23606798\n",
            "  -7.09016994 -15.94427191  -7.38196601  -5.5623059   -4.85410197\n",
            "   6.94427191  -0.47213595  16.79837388   4.09016994  20.23606798\n",
            "   7.09016994  15.94427191   7.38196601   5.5623059    4.85410197\n",
            "  -6.94427191   0.47213595 -16.79837388  -4.09016994 -20.23606798\n",
            "  -7.09016994 -15.94427191  -7.38196601  -5.5623059   -4.85410197\n",
            "   6.94427191  -0.47213595  16.79837388   4.09016994  20.23606798\n",
            "   7.09016994  15.94427191   7.38196601   5.5623059    4.85410197\n",
            "  -6.94427191   0.47213595 -16.79837388  -4.09016994 -20.23606798\n",
            "  -7.09016994 -15.94427191  -7.38196601  -5.5623059   -4.85410197\n",
            "   4.94427191  -2.47213595  15.18033989   2.47213595   1.61803399\n",
            "   6.47213595]\n",
            "[  4.           2.           3.23606798   5.61803399  15.23606798\n",
            "  21.85410197  12.09016994  19.18033989   2.70820393   5.94427191\n",
            "  -7.70820393  -9.5623059  -15.18033989 -21.41640786 -16.85410197\n",
            " -25.09016994 -12.09016994 -19.18033989  -2.70820393  -5.94427191\n",
            "   7.70820393   9.5623059   15.18033989  21.41640786  16.85410197\n",
            "  25.09016994  12.09016994  19.18033989   2.70820393   5.94427191\n",
            "  -7.70820393  -9.5623059  -15.18033989 -21.41640786 -16.85410197\n",
            " -25.09016994 -12.09016994 -19.18033989  -2.70820393  -5.94427191\n",
            "   7.70820393   9.5623059   15.18033989  21.41640786  16.85410197\n",
            "  25.09016994  12.09016994  19.18033989   2.70820393   5.94427191\n",
            "  -7.70820393  -9.5623059  -15.18033989 -21.41640786 -16.85410197\n",
            " -25.09016994 -12.09016994 -19.18033989  -2.70820393  -5.94427191\n",
            "   7.70820393   9.5623059   15.18033989  21.41640786  16.85410197\n",
            "  25.09016994  12.09016994  19.18033989   2.70820393   5.94427191\n",
            "  -7.70820393  -9.5623059  -15.18033989 -21.41640786 -16.85410197\n",
            " -25.09016994 -12.09016994 -19.18033989  -2.70820393  -5.94427191\n",
            "   7.70820393   9.5623059   15.18033989  21.41640786  16.85410197\n",
            "  25.09016994  12.09016994  19.18033989   2.70820393   5.94427191\n",
            "  -7.70820393  -9.5623059  -15.18033989 -21.41640786 -16.85410197\n",
            " -25.09016994 -12.09016994 -19.18033989  -2.70820393  -5.94427191\n",
            "   3.70820393   7.5623059   11.94427191  15.79837388   1.61803399\n",
            "   3.23606798]\n"
          ],
          "name": "stdout"
        },
        {
          "output_type": "execute_result",
          "data": {
            "text/plain": [
              "[<matplotlib.lines.Line2D at 0x7f2a96b6ccf8>]"
            ]
          },
          "metadata": {
            "tags": []
          },
          "execution_count": 37
        },
        {
          "output_type": "display_data",
          "data": {
            "image/png": "[encoded data removed]",
            "text/plain": [
              "<Figure size 432x288 with 1 Axes>"
            ]
          },
          "metadata": {
            "tags": []
          }
        }
      ]
    }
  ]
}